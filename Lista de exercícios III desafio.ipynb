{
 "cells": [
  {
   "cell_type": "code",
   "execution_count": 1,
   "metadata": {},
   "outputs": [
    {
     "name": "stdin",
     "output_type": "stream",
     "text": [
      "Digite um número:  120\n"
     ]
    },
    {
     "name": "stdout",
     "output_type": "stream",
     "text": [
      "120 é um número triangular\n"
     ]
    }
   ],
   "source": [
    "#1. Dizemos que um número natural é triangular se ele é produto de três números naturais consecutivos. \n",
    "#Exemplo: 120 é triangular, pois 4.5.6 = 120.\n",
    "#Dado um inteiro não-negativo n, verificar se n é triangular.\n",
    "\n",
    "n = int(input('Digite um número: '))\n",
    "m=1\n",
    "i=0\n",
    "while i <= n:\n",
    "    c=m * (m+1)*(m+2)\n",
    "    if n==c:\n",
    "        print('%d é um número triangular'%n)\n",
    "        break\n",
    "    elif i==n:\n",
    "        print('%d não é um número triangular'%n)\n",
    "        break\n",
    "    else:\n",
    "        m+=1\n",
    "        i+=1       \n",
    "\n"
   ]
  },
  {
   "cell_type": "code",
   "execution_count": 2,
   "metadata": {},
   "outputs": [
    {
     "name": "stdin",
     "output_type": "stream",
     "text": [
      "valor da conta:  73\n",
      "valor do pagamento:  100\n"
     ]
    },
    {
     "name": "stdout",
     "output_type": "stream",
     "text": [
      "uma nota de    20\n",
      "uma nota de    05\n",
      "uma nota de    02\n"
     ]
    }
   ],
   "source": [
    "#2. Indique como um troco deve ser dado utilizando-se um número mínimo de notas. \n",
    "#Seu algoritmo deve ler o valor da conta a ser paga e o valor do pagamento efetuado desprezando os centavos. \n",
    "#Suponha que as notas para troco sejam as de 50, 20, 10, 5, 2 e 1 reais, e que nenhuma delas esteja em falta no caixa.\n",
    "\n",
    "conta=int(input('valor da conta: '))\n",
    "pagamento= int(input('valor do pagamento: '))\n",
    "troco=pagamento-conta\n",
    "cedulas=[50,20,10,5,2,1]\n",
    "for nota in cedulas:\n",
    "    while troco >= nota:\n",
    "        print('uma nota de %5.2d' %nota)\n",
    "        troco = troco-nota\n",
    "\n"
   ]
  },
  {
   "cell_type": "code",
   "execution_count": 4,
   "metadata": {},
   "outputs": [
    {
     "name": "stdin",
     "output_type": "stream",
     "text": [
      "Digite um número:  5\n"
     ]
    },
    {
     "name": "stdout",
     "output_type": "stream",
     "text": [
      "O núnero 5 é primo\n"
     ]
    }
   ],
   "source": [
    "#3. Verifique se um inteiro positivo n é primo.\n",
    "n=int(input('Digite um número: '))\n",
    "k=1\n",
    "div=0\n",
    "while k<=n:\n",
    "    if n%k==0:\n",
    "        div+=1\n",
    "    k+=1 \n",
    "if div==2:\n",
    "    print ('O núnero %d é primo' %n)\n",
    "else:\n",
    "    print ('O núnero %d não é primo' %n)\n",
    "        \n"
   ]
  },
  {
   "cell_type": "code",
   "execution_count": null,
   "metadata": {},
   "outputs": [],
   "source": [
    "#4. Dado um número inteiro positivo, determine a sua decomposição em fatores primos \n",
    "#calculando também a multiplicidade de cada fator."
   ]
  },
  {
   "cell_type": "code",
   "execution_count": null,
   "metadata": {},
   "outputs": [],
   "source": [
    "#5. Faça um programa que peça um inteiro positivo e o mostre invertido. Ex.: 1234 gera 4321"
   ]
  },
  {
   "cell_type": "code",
   "execution_count": null,
   "metadata": {},
   "outputs": [],
   "source": []
  }
 ],
 "metadata": {
  "kernelspec": {
   "display_name": "Python 3",
   "language": "python",
   "name": "python3"
  },
  "language_info": {
   "codemirror_mode": {
    "name": "ipython",
    "version": 3
   },
   "file_extension": ".py",
   "mimetype": "text/x-python",
   "name": "python",
   "nbconvert_exporter": "python",
   "pygments_lexer": "ipython3",
   "version": "3.6.4"
  }
 },
 "nbformat": 4,
 "nbformat_minor": 2
}
